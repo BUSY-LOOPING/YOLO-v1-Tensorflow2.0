{
 "cells": [
  {
   "cell_type": "markdown",
   "id": "d61bbd3d-2fa3-4fea-8c4d-eb501adc43f9",
   "metadata": {
    "tags": []
   },
   "source": [
    "## What is a \"backend\"?\n",
    "Keras is a model-level library, providing high-level building blocks for developing deep learning models. It does not handle itself low-level operations such as tensor products, convolutions and so on. Instead, it relies on a specialized, well-optimized tensor manipulation library to do so, serving as the \"backend engine\" of Keras. Rather than picking one single tensor library and making the implementation of Keras tied to that library, Keras handles the problem in a modular way, and several different backend engines can be plugged seamlessly into Keras.\n",
    "\n",
    "At this time, Keras has two backend implementations available: the TensorFlow backend and the Theano backend.\n",
    "\n",
    "* TensorFlow is an open-source symbolic tensor manipulation framework developed by Google, Inc.\n",
    "* Theano is an open-source symbolic tensor manipulation framework developed by LISA/MILA Lab at Université de Montréal.\n",
    "\n",
    "The default configuration file looks like this:\n",
    "\n",
    "```\n",
    "{\n",
    "    \"image_data_format\": \"channels_last\",\n",
    "    \"epsilon\": 1e-07,\n",
    "    \"floatx\": \"float32\",\n",
    "    \"backend\": \"tensorflow\"\n",
    "}\n",
    "```\n",
    "\n",
    "Simply change the field backend to either \"theano\" or \"tensorflow\", and Keras will use the new configuration next time you run any Keras code.\n",
    "\n",
    "To import backend from keras :"
   ]
  },
  {
   "cell_type": "code",
   "execution_count": 1,
   "id": "d0a64c48-8fee-4f1a-8fb4-9508086ff806",
   "metadata": {},
   "outputs": [],
   "source": [
    "from tensorflow.keras import backend as K"
   ]
  },
  {
   "cell_type": "markdown",
   "id": "a13365d3-da3b-4bc1-8089-492f1cc5814f",
   "metadata": {},
   "source": [
    "The code below instantiates an input placeholder. It's equivalent to tf.placeholder() or th.tensor.matrix(), th.tensor.tensor3(), etc."
   ]
  },
  {
   "cell_type": "code",
   "execution_count": 68,
   "id": "72ea9b71-789a-4d96-ad09-925962423111",
   "metadata": {},
   "outputs": [
    {
     "name": "stdout",
     "output_type": "stream",
     "text": [
      "KerasTensor(type_spec=TensorSpec(shape=(2, 4, 5), dtype=tf.float32, name=None), description=\"created by layer 'input_1'\")\n",
      "KerasTensor(type_spec=TensorSpec(shape=(None, 4, 5), dtype=tf.float32, name=None), description=\"created by layer 'input_2'\")\n",
      "KerasTensor(type_spec=TensorSpec(shape=(None, None, None), dtype=tf.float32, name=None), description=\"created by layer 'input_3'\")\n"
     ]
    }
   ],
   "source": [
    "input1 = K.placeholder(shape=(2, 4, 5))\n",
    "# also works:\n",
    "input2 = K.placeholder(shape=(None, 4, 5))\n",
    "# also works:\n",
    "input3 = K.placeholder(ndim=3)\n",
    "print(input1, input2, input3, sep='\\n')"
   ]
  },
  {
   "cell_type": "markdown",
   "id": "d7a12ea1-0e7e-4687-a600-ab75c754cf91",
   "metadata": {},
   "source": [
    "The code below instantiates a shared variable. It's equivalent to tf.Variable() or th.shared()."
   ]
  },
  {
   "cell_type": "code",
   "execution_count": null,
   "id": "76159c23-b111-4b66-bffb-c297f024b3ec",
   "metadata": {
    "collapsed": true,
    "jupyter": {
     "outputs_hidden": true
    },
    "tags": []
   },
   "outputs": [
    {
     "name": "stdout",
     "output_type": "stream",
     "text": [
      "<tf.Variable 'Variable:0' shape=(3, 4, 5) dtype=float32>\n",
      "<tf.Variable 'Variable_1:0' shape=(3, 4, 5) dtype=float32>\n",
      "<tf.Variable 'Variable_2:0' shape=(3, 4, 5) dtype=float32>\n"
     ]
    }
   ],
   "source": [
    "import numpy as np\n",
    "val = np.random.random((3, 4, 5))\n",
    "var1 = K.variable(value=val)\n",
    "\n",
    "# all-zeros variable:\n",
    "var2 = K.zeros(shape=(3, 4, 5))\n",
    "# all-ones:\n",
    "var3 = K.ones(shape=(3, 4, 5))\n",
    "\n",
    "print(var1, var2, var3, sep = '\\n')"
   ]
  },
  {
   "cell_type": "markdown",
   "id": "e603ddd6-9df4-47ef-981c-ed4d7960f07f",
   "metadata": {},
   "source": [
    "Most tensor operations you will need can be done as you would in TensorFlow or Theano:"
   ]
  },
  {
   "cell_type": "code",
   "execution_count": 31,
   "id": "be90f4e8-7740-4108-bfd6-3a4e67e06117",
   "metadata": {
    "collapsed": true,
    "jupyter": {
     "outputs_hidden": true
    },
    "tags": []
   },
   "outputs": [
    {
     "data": {
      "image/png": "[encoded data removed]",
      "text/plain": [
       "<Figure size 640x480 with 1 Axes>"
      ]
     },
     "metadata": {},
     "output_type": "display_data"
    }
   ],
   "source": [
    "# Initializing Tensors with Random Numbers\n",
    "b = K.random_uniform_variable(shape=(100, 2), low=0, high=1) # Uniform distribution\n",
    "c = K.random_normal_variable(shape=(100, 2), mean=0, scale=1) # Gaussian distribution\n",
    "import matplotlib.pyplot as plt\n",
    "plt.hist(b.numpy().flatten(), label = 'Uniform', alpha = 0.5)\n",
    "plt.hist(c.numpy().flatten(), label = 'Gaussian', alpha = 0.5)\n",
    "plt.legend();"
   ]
  },
  {
   "cell_type": "code",
   "execution_count": 37,
   "id": "44914d94-0454-41a0-84a1-616ddac2bcb2",
   "metadata": {},
   "outputs": [
    {
     "name": "stdout",
     "output_type": "stream",
     "text": [
      "(100, 2) (100, 2) (100, 4)\n"
     ]
    }
   ],
   "source": [
    "# Tensor Arithmetics\n",
    "a = b + c * K.abs(c)\n",
    "a_b_dot = K.dot(a, K.transpose(b))\n",
    "b_sum = K.sum(b, axis=1)\n",
    "a_softmax = K.softmax(b)\n",
    "x = K.concatenate([b, c], axis=-1)\n",
    "print(b.shape, c.shape, x.shape)\n",
    "# etc..."
   ]
  },
  {
   "cell_type": "code",
   "execution_count": 28,
   "id": "4c3622d4-7d96-4512-8940-37ea727b1293",
   "metadata": {
    "collapsed": true,
    "jupyter": {
     "outputs_hidden": true
    },
    "tags": []
   },
   "outputs": [
    {
     "data": {
      "text/plain": [
       "\u001b[1;31mSignature:\u001b[0m \u001b[0mK\u001b[0m\u001b[1;33m.\u001b[0m\u001b[0mconcatenate\u001b[0m\u001b[1;33m(\u001b[0m\u001b[0mtensors\u001b[0m\u001b[1;33m,\u001b[0m \u001b[0maxis\u001b[0m\u001b[1;33m=\u001b[0m\u001b[1;33m-\u001b[0m\u001b[1;36m1\u001b[0m\u001b[1;33m)\u001b[0m\u001b[1;33m\u001b[0m\u001b[1;33m\u001b[0m\u001b[0m\n",
       "\u001b[1;31mDocstring:\u001b[0m\n",
       "Concatenates a list of tensors alongside the specified axis.\n",
       "\n",
       "Args:\n",
       "    tensors: list of tensors to concatenate.\n",
       "    axis: concatenation axis.\n",
       "\n",
       "Returns:\n",
       "    A tensor.\n",
       "\n",
       "Example:\n",
       "\n",
       "    >>> a = tf.constant([[1, 2, 3], [4, 5, 6], [7, 8, 9]])\n",
       "    >>> b = tf.constant([[10, 20, 30], [40, 50, 60], [70, 80, 90]])\n",
       "    >>> tf.keras.backend.concatenate((a, b), axis=-1)\n",
       "    <tf.Tensor: shape=(3, 6), dtype=int32, numpy=\n",
       "    array([[ 1,  2,  3, 10, 20, 30],\n",
       "           [ 4,  5,  6, 40, 50, 60],\n",
       "           [ 7,  8,  9, 70, 80, 90]], dtype=int32)>\n",
       "\u001b[1;31mFile:\u001b[0m      c:\\users\\dhruv\\desktop\\env\\venv\\lib\\site-packages\\keras\\backend.py\n",
       "\u001b[1;31mType:\u001b[0m      function\n"
      ]
     },
     "metadata": {},
     "output_type": "display_data"
    }
   ],
   "source": [
    "?K.concatenate"
   ]
  },
  {
   "cell_type": "markdown",
   "id": "fda3b52f-d3c2-4abc-a167-6404702aaefd",
   "metadata": {},
   "source": [
    "## Backend functions"
   ]
  },
  {
   "cell_type": "code",
   "execution_count": 38,
   "id": "52589058-cd7d-42df-8e59-1ad7886fda65",
   "metadata": {},
   "outputs": [
    {
     "data": {
      "text/plain": [
       "'tensorflow'"
      ]
     },
     "execution_count": 38,
     "metadata": {},
     "output_type": "execute_result"
    }
   ],
   "source": [
    "K.backend()"
   ]
  },
  {
   "cell_type": "code",
   "execution_count": 39,
   "id": "24380954-bc5a-456a-b45a-d5e78fda0094",
   "metadata": {},
   "outputs": [
    {
     "data": {
      "text/plain": [
       "1e-07"
      ]
     },
     "execution_count": 39,
     "metadata": {},
     "output_type": "execute_result"
    }
   ],
   "source": [
    "# K.set_epsilon(1e-5)\n",
    "K.epsilon()"
   ]
  },
  {
   "cell_type": "code",
   "execution_count": 40,
   "id": "0f086ad2-97e4-40ec-ac99-a79e2cf9b66e",
   "metadata": {},
   "outputs": [
    {
     "data": {
      "text/plain": [
       "'float32'"
      ]
     },
     "execution_count": 40,
     "metadata": {},
     "output_type": "execute_result"
    }
   ],
   "source": [
    "# K.set_floatx('float16')\n",
    "K.floatx()"
   ]
  },
  {
   "cell_type": "code",
   "execution_count": 42,
   "id": "83952aa5-7bcd-4598-8a82-dd47a7dc677f",
   "metadata": {},
   "outputs": [
    {
     "data": {
      "text/plain": [
       "dtype('float64')"
      ]
     },
     "execution_count": 42,
     "metadata": {},
     "output_type": "execute_result"
    }
   ],
   "source": [
    "arr = np.array([1.0, 2.0], dtype='float64')\n",
    "arr.dtype"
   ]
  },
  {
   "cell_type": "code",
   "execution_count": 43,
   "id": "642406d7-02d6-41bc-a9e5-62f18f5f36df",
   "metadata": {},
   "outputs": [
    {
     "data": {
      "text/plain": [
       "array([1., 2.], dtype=float32)"
      ]
     },
     "execution_count": 43,
     "metadata": {},
     "output_type": "execute_result"
    }
   ],
   "source": [
    "new_arr = K.cast_to_floatx(arr)\n",
    "new_arr"
   ]
  },
  {
   "cell_type": "code",
   "execution_count": 51,
   "id": "7463becf-f497-43d9-8bbb-34857839d820",
   "metadata": {},
   "outputs": [
    {
     "data": {
      "text/plain": [
       "False"
      ]
     },
     "execution_count": 51,
     "metadata": {},
     "output_type": "execute_result"
    }
   ],
   "source": [
    "K.is_keras_tensor(a)"
   ]
  },
  {
   "cell_type": "code",
   "execution_count": 56,
   "id": "1bbe76e0-0898-4654-821c-36872743e303",
   "metadata": {},
   "outputs": [
    {
     "data": {
      "text/plain": [
       "True"
      ]
     },
     "execution_count": 56,
     "metadata": {},
     "output_type": "execute_result"
    }
   ],
   "source": [
    "keras_placeholder = K.placeholder(shape=(2, 4, 5))\n",
    "K.is_keras_tensor(keras_placeholder)"
   ]
  },
  {
   "cell_type": "code",
   "execution_count": 53,
   "id": "49041e88-aaf5-4d00-94b4-c7f837d83fdc",
   "metadata": {
    "collapsed": true,
    "jupyter": {
     "outputs_hidden": true
    },
    "tags": []
   },
   "outputs": [
    {
     "data": {
      "text/plain": [
       "\u001b[1;31mSignature:\u001b[0m \u001b[0mK\u001b[0m\u001b[1;33m.\u001b[0m\u001b[0mis_keras_tensor\u001b[0m\u001b[1;33m(\u001b[0m\u001b[0mx\u001b[0m\u001b[1;33m)\u001b[0m\u001b[1;33m\u001b[0m\u001b[1;33m\u001b[0m\u001b[0m\n",
       "\u001b[1;31mDocstring:\u001b[0m\n",
       "Returns whether `x` is a Keras tensor.\n",
       "\n",
       "A \"Keras tensor\" is a tensor that was returned by a Keras layer,\n",
       "(`Layer` class) or by `Input`.\n",
       "\n",
       "Args:\n",
       "    x: A candidate tensor.\n",
       "\n",
       "Returns:\n",
       "    A boolean: Whether the argument is a Keras tensor.\n",
       "\n",
       "Raises:\n",
       "    ValueError: In case `x` is not a symbolic tensor.\n",
       "\n",
       "Examples:\n",
       "\n",
       ">>> np_var = np.array([1, 2])\n",
       ">>> # A numpy array is not a symbolic tensor.\n",
       ">>> tf.keras.backend.is_keras_tensor(np_var)\n",
       "Traceback (most recent call last):\n",
       "...\n",
       "ValueError: Unexpectedly found an instance of type\n",
       "`<class 'numpy.ndarray'>`.\n",
       "Expected a symbolic tensor instance.\n",
       ">>> keras_var = tf.keras.backend.variable(np_var)\n",
       ">>> # A variable created with the keras backend is not a Keras tensor.\n",
       ">>> tf.keras.backend.is_keras_tensor(keras_var)\n",
       "False\n",
       ">>> keras_placeholder = tf.keras.backend.placeholder(shape=(2, 4, 5))\n",
       ">>> # A placeholder is a Keras tensor.\n",
       ">>> tf.keras.backend.is_keras_tensor(keras_placeholder)\n",
       "True\n",
       ">>> keras_input = tf.keras.layers.Input([10])\n",
       ">>> # An Input is a Keras tensor.\n",
       ">>> tf.keras.backend.is_keras_tensor(keras_input)\n",
       "True\n",
       ">>> keras_layer_output = tf.keras.layers.Dense(10)(keras_input)\n",
       ">>> # Any Keras layer output is a Keras tensor.\n",
       ">>> tf.keras.backend.is_keras_tensor(keras_layer_output)\n",
       "True\n",
       "\u001b[1;31mFile:\u001b[0m      c:\\users\\dhruv\\desktop\\env\\venv\\lib\\site-packages\\keras\\backend.py\n",
       "\u001b[1;31mType:\u001b[0m      function\n"
      ]
     },
     "metadata": {},
     "output_type": "display_data"
    }
   ],
   "source": [
    "?K.is_keras_tensor"
   ]
  },
  {
   "cell_type": "code",
   "execution_count": 57,
   "id": "15ec75bb-c588-41d3-ae03-34f331a8bf2e",
   "metadata": {},
   "outputs": [],
   "source": [
    "# Resets the TF graph\n",
    "K.clear_session()"
   ]
  },
  {
   "cell_type": "code",
   "execution_count": 69,
   "id": "2fc7c7c8-5e70-4f5b-8bc4-976919f13e1e",
   "metadata": {},
   "outputs": [
    {
     "data": {
      "text/plain": [
       "0"
      ]
     },
     "execution_count": 69,
     "metadata": {},
     "output_type": "execute_result"
    }
   ],
   "source": [
    "# The learning phase flag is a bool tensor (0 = test, 1 = train)\n",
    "# set_learning_phase(value)\n",
    "K.learning_phase()"
   ]
  },
  {
   "cell_type": "markdown",
   "id": "6e2c4244-f805-4c28-aa5b-724563e70187",
   "metadata": {},
   "source": [
    "## How can I obtain the output of an intermediate layer?\n",
    "One simple way is to create a new Model that will output the layers that you are interested in:"
   ]
  },
  {
   "cell_type": "code",
   "execution_count": 82,
   "id": "95ce22db-9b64-472f-9459-a5cc23dee51e",
   "metadata": {},
   "outputs": [
    {
     "name": "stdout",
     "output_type": "stream",
     "text": [
      "Model: \"sequential_2\"\n",
      "_________________________________________________________________\n",
      " Layer (type)                Output Shape              Param #   \n",
      "=================================================================\n",
      " dense_1 (Dense)             (None, 10)                40        \n",
      "                                                                 \n",
      " dense_2 (Dense)             (None, 10)                110       \n",
      "                                                                 \n",
      " dense_3 (Dense)             (None, 10)                110       \n",
      "                                                                 \n",
      " dense_4 (Dense)             (None, 10)                110       \n",
      "                                                                 \n",
      " dense_5 (Dense)             (None, 10)                110       \n",
      "                                                                 \n",
      "=================================================================\n",
      "Total params: 480\n",
      "Trainable params: 480\n",
      "Non-trainable params: 0\n",
      "_________________________________________________________________\n"
     ]
    }
   ],
   "source": [
    "from keras.models import Model, Sequential\n",
    "from keras.layers import Dense\n",
    "\n",
    "model = Sequential()\n",
    "model.add(Dense(10, input_shape=(3,), name='dense_1'))\n",
    "model.add(Dense(10, name='dense_2'))\n",
    "model.add(Dense(10, name='dense_3'))\n",
    "model.add(Dense(10, name='dense_4'))\n",
    "model.add(Dense(10, name='dense_5'))\n",
    "\n",
    "model.summary()"
   ]
  },
  {
   "cell_type": "markdown",
   "id": "715cd02f-b038-41b0-934a-08f735757513",
   "metadata": {},
   "source": [
    "1. First way is to create another Model object with inputs as model input and output as intrermediate layer output"
   ]
  },
  {
   "cell_type": "code",
   "execution_count": 70,
   "id": "3f3ae6e0-c729-41de-b463-fd77951f0207",
   "metadata": {},
   "outputs": [
    {
     "name": "stdout",
     "output_type": "stream",
     "text": [
      "1/1 [==============================] - 0s 33ms/step\n"
     ]
    },
    {
     "data": {
      "text/plain": [
       "array([[ 0.10436258,  0.01025522,  0.659142  , -0.72244346, -2.2823668 ,\n",
       "        -2.6160698 ,  0.8206099 ,  3.0555387 ,  0.8985908 ,  1.0663377 ]],\n",
       "      dtype=float32)"
      ]
     },
     "execution_count": 70,
     "metadata": {},
     "output_type": "execute_result"
    }
   ],
   "source": [
    "layer_name = 'dense_1'\n",
    "intermediate_layer_model = Model(inputs=model.input,\n",
    "                                 outputs=model.get_layer(layer_name).output)\n",
    "\n",
    "intermediate_output = intermediate_layer_model.predict(np.array([[1,2,3]]))\n",
    "\n",
    "intermediate_output"
   ]
  },
  {
   "cell_type": "markdown",
   "id": "b9693854-8f46-47fd-8041-6557d0aee350",
   "metadata": {},
   "source": [
    "2. Alternatively, you can build a Keras function that will return the output of a certain layer given a certain input, for example:"
   ]
  },
  {
   "cell_type": "code",
   "execution_count": 63,
   "id": "e1d19c46-2bc3-4838-918e-efc008a8dba6",
   "metadata": {},
   "outputs": [
    {
     "data": {
      "text/plain": [
       "<KerasTensor: shape=(None, 3) dtype=float32 (created by layer 'dense_1_input')>"
      ]
     },
     "execution_count": 63,
     "metadata": {},
     "output_type": "execute_result"
    }
   ],
   "source": [
    "model.layers[0].input"
   ]
  },
  {
   "cell_type": "code",
   "execution_count": 71,
   "id": "9df0c2e5-d1f9-4724-8677-325b8e044e5d",
   "metadata": {},
   "outputs": [
    {
     "name": "stdout",
     "output_type": "stream",
     "text": [
      "[array([[ 0.10436258,  0.01025522,  0.659142  , -0.72244346, -2.2823668 ,\n",
      "        -2.6160698 ,  0.8206099 ,  3.0555387 ,  0.8985908 ,  1.0663377 ]],\n",
      "      dtype=float32)]\n",
      "[[ 0.10436258  0.01025522  0.659142   -0.72244346 -2.2823668  -2.6160698\n",
      "   0.8206099   3.0555387   0.8985908   1.0663377 ]]\n"
     ]
    }
   ],
   "source": [
    "# with a Sequential model\n",
    "get_3rd_layer_output = K.function([model.layers[0].input],\n",
    "                                  [model.get_layer(layer_name).output])\n",
    "layer_output = get_3rd_layer_output([np.array([[1,2,3]])])\n",
    "\n",
    "print(layer_output, layer_output[0], sep = '\\n')"
   ]
  },
  {
   "cell_type": "markdown",
   "id": "bc2f9708-ce8f-4bc2-95e9-8878f490704a",
   "metadata": {},
   "source": [
    "3. Note that if your model has a different behavior in training and testing phase (e.g. if it uses Dropout, BatchNormalization, etc.), you will need to pass the learning phase flag to your function:"
   ]
  },
  {
   "cell_type": "code",
   "execution_count": null,
   "id": "017412d7-96d1-4474-a1da-d025268f1b0f",
   "metadata": {},
   "outputs": [],
   "source": [
    "import tensorflow.compat.v1 as tf\n",
    "tf.disable_v2_behavior()\n",
    "X = np.array([[1,2,3]])\n",
    "\n",
    "get_3rd_layer_output = K.function([model.layers[0].input, K.learning_phase()],\n",
    "                                  [model.layers[3].output])\n",
    "\n",
    "# output in test mode = 0\n",
    "layer_output_0 = get_3rd_layer_output([X, 0])[0]\n",
    "\n",
    "# output in train mode = 1\n",
    "layer_output_1 = get_3rd_layer_output([X, 1])[0]\n",
    "\n",
    "print(layer_output_0, layer_output_1, sep = '\\n')"
   ]
  },
  {
   "cell_type": "markdown",
   "id": "aac794fd-d8b5-4623-9d05-d54b1a516db6",
   "metadata": {},
   "source": [
    "Finally using eval will also work, and get_value will work for variables"
   ]
  },
  {
   "cell_type": "code",
   "execution_count": 87,
   "id": "b01d9387-1a95-4544-bc28-06747598e47e",
   "metadata": {},
   "outputs": [
    {
     "data": {
      "text/plain": [
       "array([[1., 2.],\n",
       "       [3., 4.]], dtype=float32)"
      ]
     },
     "execution_count": 87,
     "metadata": {},
     "output_type": "execute_result"
    }
   ],
   "source": [
    "kvar = K.variable(np.array([[1, 2], [3, 4]]), dtype='float32')\n",
    "K.eval(kvar)"
   ]
  },
  {
   "cell_type": "code",
   "execution_count": 88,
   "id": "eabf712d-1d3a-48c1-b0dd-3830debb858f",
   "metadata": {},
   "outputs": [
    {
     "data": {
      "text/plain": [
       "4"
      ]
     },
     "execution_count": 88,
     "metadata": {},
     "output_type": "execute_result"
    }
   ],
   "source": [
    "K.count_params(kvar)"
   ]
  },
  {
   "cell_type": "code",
   "execution_count": 89,
   "id": "23036bf8-b58d-47c9-8829-8dffdaa51cb6",
   "metadata": {},
   "outputs": [
    {
     "data": {
      "text/plain": [
       "array([[1., 2.],\n",
       "       [3., 4.]], dtype=float32)"
      ]
     },
     "execution_count": 89,
     "metadata": {},
     "output_type": "execute_result"
    }
   ],
   "source": [
    "# K.set_value()\n",
    "K.get_value(kvar)"
   ]
  },
  {
   "cell_type": "code",
   "execution_count": 9,
   "id": "654804cf-0468-4826-b9d7-48833b8cde5c",
   "metadata": {},
   "outputs": [
    {
     "data": {
      "text/plain": [
       "array([2., 3.], dtype=float32)"
      ]
     },
     "execution_count": 9,
     "metadata": {},
     "output_type": "execute_result"
    }
   ],
   "source": [
    "import tensorflow.compat.v1 as tf\n",
    "tf.disable_v2_behavior()\n",
    "tf.enable_v2_behavior()\n",
    "import numpy as np\n",
    "K.get_value(K.maximum(K.variable(np.array([1, 2])), K.variable(np.array([2, 3]))))"
   ]
  },
  {
   "cell_type": "markdown",
   "id": "157ebdf1-cc2c-4e22-a783-f929f102bdd5",
   "metadata": {},
   "source": [
    "## References\n",
    "[Notebook](https://github.com/knathanieltucker/a-bit-of-deep-learning-and-keras/blob/master/notebooks/Backend.ipynb)"
   ]
  },
  {
   "cell_type": "code",
   "execution_count": 4,
   "id": "e7d54259-0cfb-465c-84b9-0a359bdd1150",
   "metadata": {},
   "outputs": [
    {
     "data": {
      "text/plain": [
       "numpy.ndarray"
      ]
     },
     "execution_count": 4,
     "metadata": {},
     "output_type": "execute_result"
    }
   ],
   "source": [
    "import tensorflow as tf\n",
    "import numpy as np\n",
    "from keras import backend as K\n",
    "\n",
    "a = np.array([1, 2])\n",
    "b = np.array([2, 3])\n",
    "x = K.concatenate([K.variable(a), K.variable(b)])\n",
    "type(K.eval(a))"
   ]
  },
  {
   "cell_type": "code",
   "execution_count": 9,
   "id": "9a2dab83-8259-4d33-bac6-5ffc345f1f27",
   "metadata": {},
   "outputs": [
    {
     "data": {
      "text/plain": [
       "<tf.Tensor: shape=(1, 2), dtype=int32, numpy=array([[1, 2]])>"
      ]
     },
     "execution_count": 9,
     "metadata": {},
     "output_type": "execute_result"
    }
   ],
   "source": [
    "K.expand_dims(a, 0)"
   ]
  },
  {
   "cell_type": "code",
   "execution_count": 6,
   "id": "164bb0d5-b74c-4232-8024-445acf941b6b",
   "metadata": {},
   "outputs": [
    {
     "data": {
      "text/plain": [
       "<tf.Tensor: shape=(2, 1), dtype=int32, numpy=\n",
       "array([[1],\n",
       "       [2]])>"
      ]
     },
     "execution_count": 6,
     "metadata": {},
     "output_type": "execute_result"
    }
   ],
   "source": [
    "K.reshape(a, [-1, 1])"
   ]
  },
  {
   "cell_type": "code",
   "execution_count": 7,
   "id": "9e0e4a85-b1b8-49a4-ada0-6d8f21189c89",
   "metadata": {},
   "outputs": [
    {
     "data": {
      "text/plain": [
       "392"
      ]
     },
     "execution_count": 7,
     "metadata": {},
     "output_type": "execute_result"
    }
   ],
   "source": [
    "49 * 8"
   ]
  },
  {
   "cell_type": "code",
   "execution_count": 8,
   "id": "9922201d-a9d1-41d1-9238-7cdf06a76d7b",
   "metadata": {},
   "outputs": [
    {
     "data": {
      "text/plain": [
       "392"
      ]
     },
     "execution_count": 8,
     "metadata": {},
     "output_type": "execute_result"
    }
   ],
   "source": [
    "7* 7* 2* 4"
   ]
  },
  {
   "cell_type": "code",
   "execution_count": 11,
   "id": "a362b650-3c7f-4f43-9dad-86d35766af39",
   "metadata": {
    "collapsed": true,
    "jupyter": {
     "outputs_hidden": true
    },
    "tags": []
   },
   "outputs": [
    {
     "data": {
      "text/plain": [
       "<tf.Tensor: shape=(1, 7, 7, 2, 4), dtype=float32, numpy=\n",
       "array([[[[[ 1.1641135e+00, -4.1975161e-01,  8.9411747e-01,\n",
       "            7.5477403e-01],\n",
       "          [ 6.5532416e-01, -1.6234163e+00,  1.8705670e+00,\n",
       "            1.3963423e+00]],\n",
       "\n",
       "         [[ 9.6195310e-01, -8.1316501e-01, -6.8411976e-01,\n",
       "           -4.6323553e-01],\n",
       "          [ 1.7951530e+00,  9.5891404e-01,  4.0272656e-01,\n",
       "           -1.6583543e+00]],\n",
       "\n",
       "         [[ 3.9341369e-01,  2.9993808e-01,  5.7547098e-01,\n",
       "           -8.0094773e-01],\n",
       "          [-2.2743055e-01, -8.6571908e-01,  1.8017144e+00,\n",
       "            9.2368799e-01]],\n",
       "\n",
       "         [[ 1.0051535e+00, -1.1410729e+00, -4.9820939e-01,\n",
       "            3.5138562e-01],\n",
       "          [ 9.0464818e-01, -1.1050223e-01, -1.9387984e+00,\n",
       "            5.0152367e-01]],\n",
       "\n",
       "         [[ 1.2343670e+00, -3.9768276e-01,  1.8121946e+00,\n",
       "           -3.8284671e-01],\n",
       "          [ 4.2819136e-01, -1.8121368e-01,  5.2577662e-01,\n",
       "            5.6427062e-01]],\n",
       "\n",
       "         [[-9.3371904e-01,  1.0720987e+00, -7.1441524e-02,\n",
       "            1.2114246e-01],\n",
       "          [ 3.8514402e-02,  5.0600672e-01,  8.5547978e-01,\n",
       "            5.1530562e-02]],\n",
       "\n",
       "         [[-6.8327206e-01, -6.1186177e-01,  1.4307686e+00,\n",
       "            4.1751546e-01],\n",
       "          [ 2.6686856e-01, -1.4935782e+00, -1.4669640e+00,\n",
       "           -2.7646428e-01]]],\n",
       "\n",
       "\n",
       "        [[[ 3.3929598e-02, -4.0069690e-01, -4.3704316e-01,\n",
       "            1.0739051e+00],\n",
       "          [-2.2074008e-02, -1.4102148e+00, -6.9555050e-01,\n",
       "            1.9373383e-01]],\n",
       "\n",
       "         [[ 7.1505535e-01,  1.1572189e+00,  1.1074646e+00,\n",
       "            1.4391790e-01],\n",
       "          [-1.9929624e+00,  5.9805602e-01,  2.4727906e-01,\n",
       "           -1.1307604e+00]],\n",
       "\n",
       "         [[ 4.8637994e-02, -1.0311561e+00,  9.0041918e-01,\n",
       "            8.5433698e-01],\n",
       "          [-1.2675008e-01, -1.5930060e+00,  5.3391939e-01,\n",
       "            4.3557778e-01]],\n",
       "\n",
       "         [[ 5.6996214e-01,  1.0981921e+00, -2.0828402e+00,\n",
       "            7.1765268e-01],\n",
       "          [ 8.6507666e-01, -6.4575797e-01,  1.9213502e-01,\n",
       "            9.4136313e-02]],\n",
       "\n",
       "         [[-8.1053060e-01,  2.0017552e+00, -8.9001882e-01,\n",
       "            5.7525033e-01],\n",
       "          [ 3.6340737e-01,  5.0821894e-01, -1.3945158e+00,\n",
       "           -5.3266174e-01]],\n",
       "\n",
       "         [[-1.6237496e+00, -4.5840150e-01,  5.1842010e-01,\n",
       "           -1.2644116e+00],\n",
       "          [ 4.6310598e-01,  2.1246958e+00, -1.6207081e+00,\n",
       "           -2.4131911e+00]],\n",
       "\n",
       "         [[-2.8937215e-01,  1.3421867e+00, -5.9995371e-01,\n",
       "            4.6511179e-01],\n",
       "          [-8.2440346e-02,  6.3361609e-01,  7.2960800e-01,\n",
       "           -2.8465256e-01]]],\n",
       "\n",
       "\n",
       "        [[[-6.4721370e-01, -4.6892145e-01,  8.9313066e-01,\n",
       "           -1.7995669e+00],\n",
       "          [-2.3595664e-01, -3.8056394e-01,  9.6489203e-01,\n",
       "            2.9646316e-01]],\n",
       "\n",
       "         [[ 1.6289910e+00,  1.3371415e+00,  1.6495324e+00,\n",
       "           -4.1187081e-01],\n",
       "          [ 1.0560367e+00, -6.2748812e-02, -9.6520483e-01,\n",
       "            2.3267193e+00]],\n",
       "\n",
       "         [[-3.4555078e-01,  2.8617698e-01, -5.6304002e-01,\n",
       "           -1.6587747e+00],\n",
       "          [-2.1841836e+00, -1.9519614e-01, -1.6212190e+00,\n",
       "            9.6045774e-01]],\n",
       "\n",
       "         [[ 6.9179499e-01,  3.6699346e-01, -6.2167990e-01,\n",
       "            7.1022391e-01],\n",
       "          [ 6.6629839e-01, -3.6155227e-01,  1.5396154e-01,\n",
       "           -2.8150657e-01]],\n",
       "\n",
       "         [[-6.1299592e-01,  2.3825479e-01,  6.7488360e-01,\n",
       "           -4.6040304e-02],\n",
       "          [ 1.3092174e-01,  7.6262736e-01, -1.2672774e+00,\n",
       "           -1.4460884e-04]],\n",
       "\n",
       "         [[ 1.0901450e+00, -1.2126718e+00, -1.3542871e+00,\n",
       "           -4.8704773e-01],\n",
       "          [-3.6901228e-02, -4.5353866e-01, -7.0286912e-01,\n",
       "            8.3261266e-02]],\n",
       "\n",
       "         [[-1.0528996e+00, -4.9386176e-01, -1.8793717e-01,\n",
       "            9.2522514e-01],\n",
       "          [ 7.8569883e-01,  2.0011294e+00,  2.7561328e-01,\n",
       "           -4.7066820e-01]]],\n",
       "\n",
       "\n",
       "        [[[ 1.5254923e+00, -5.0652444e-01, -5.8524805e-01,\n",
       "           -3.2416657e-01],\n",
       "          [ 1.1011450e+00,  1.2394996e+00, -4.3053916e-01,\n",
       "           -5.6191421e-01]],\n",
       "\n",
       "         [[ 8.5860693e-01, -7.5465912e-01, -1.0672964e+00,\n",
       "           -3.2301450e-01],\n",
       "          [-4.0446654e-01,  1.4589559e-01, -5.0704598e-01,\n",
       "           -1.6429548e+00]],\n",
       "\n",
       "         [[-8.3311528e-02, -8.1509900e-01, -2.4747748e-02,\n",
       "            4.3575761e-01],\n",
       "          [-2.9227132e-01,  1.1543223e+00,  2.3482105e-01,\n",
       "           -1.0120977e+00]],\n",
       "\n",
       "         [[-4.9217609e-01, -4.4248432e-01,  4.2438164e-01,\n",
       "           -8.6045426e-01],\n",
       "          [ 9.4770873e-01, -7.3847699e-01,  4.4614539e-01,\n",
       "           -1.3176094e+00]],\n",
       "\n",
       "         [[-2.1024553e-01, -2.9067922e-01, -9.9923450e-01,\n",
       "           -6.5033793e-01],\n",
       "          [ 3.3040690e-01,  1.3215772e+00, -1.2809478e-01,\n",
       "           -3.2983921e-02]],\n",
       "\n",
       "         [[-4.1791964e-01, -7.3118931e-01,  2.1491943e-01,\n",
       "            6.9763941e-01],\n",
       "          [-1.9204752e-01, -1.7555202e+00, -2.3248465e+00,\n",
       "            5.2171034e-01]],\n",
       "\n",
       "         [[-1.0712080e+00,  2.8585657e-01,  6.1091298e-01,\n",
       "           -1.4116179e+00],\n",
       "          [-1.1961964e-01,  6.0410535e-01, -5.5373931e-01,\n",
       "            3.8130653e-01]]],\n",
       "\n",
       "\n",
       "        [[[-1.4325305e+00,  1.2994546e+00,  1.3883578e+00,\n",
       "            1.8014158e-01],\n",
       "          [-7.1185935e-01, -1.0363498e-01, -7.3991317e-01,\n",
       "            5.3035164e-01]],\n",
       "\n",
       "         [[ 1.6364481e-02, -5.3238785e-01,  1.5787274e+00,\n",
       "            2.0519190e-01],\n",
       "          [ 1.5599070e-01, -3.0593684e-01, -1.6109321e+00,\n",
       "           -1.6895074e+00]],\n",
       "\n",
       "         [[-1.4225411e+00, -1.0379766e+00, -7.3243213e-01,\n",
       "            1.8815763e+00],\n",
       "          [-2.9195872e-01,  1.2990241e+00, -6.9870090e-01,\n",
       "            1.3822424e+00]],\n",
       "\n",
       "         [[-1.8428600e-01, -6.6123170e-01,  4.9149817e-01,\n",
       "            1.4471431e-01],\n",
       "          [-3.1405251e-02, -9.6175810e-03, -1.4211676e+00,\n",
       "            2.6157805e-01]],\n",
       "\n",
       "         [[-1.4063025e+00,  8.8221377e-01, -7.0768046e-01,\n",
       "            7.4946070e-01],\n",
       "          [-1.2171681e+00, -1.8897357e+00, -8.8514751e-01,\n",
       "            2.8860247e-01]],\n",
       "\n",
       "         [[-2.0461896e-01, -2.3372030e+00,  2.7352583e-01,\n",
       "            4.1583806e-01],\n",
       "          [ 1.6580649e-02, -2.2658383e-02, -5.3060091e-01,\n",
       "            1.7165314e+00]],\n",
       "\n",
       "         [[-1.6159761e-01, -1.9042639e-01, -5.5029960e-03,\n",
       "           -1.0206840e+00],\n",
       "          [-1.1388880e+00, -2.0547222e-01,  1.5300044e-01,\n",
       "            2.2084007e+00]]],\n",
       "\n",
       "\n",
       "        [[[ 2.8915370e-01,  9.5604193e-01,  1.2313248e+00,\n",
       "            1.4752005e+00],\n",
       "          [-9.5995331e-01,  1.2601179e+00, -2.5825295e-01,\n",
       "           -2.8844026e-01]],\n",
       "\n",
       "         [[ 1.3198415e+00,  3.9591235e-01,  2.0682786e-01,\n",
       "           -1.2958668e+00],\n",
       "          [ 1.0945739e+00,  4.2716536e-01,  1.6922367e-01,\n",
       "            1.8639261e+00]],\n",
       "\n",
       "         [[ 3.4995624e-01, -1.8483970e-01,  1.1700652e+00,\n",
       "           -7.5628799e-01],\n",
       "          [-2.4510386e+00, -1.0362630e+00, -1.3441538e+00,\n",
       "           -2.0070599e-01]],\n",
       "\n",
       "         [[ 1.3448675e+00,  1.2260934e+00,  8.7530380e-01,\n",
       "           -4.6302789e-01],\n",
       "          [ 6.8150669e-02, -1.6339651e+00,  3.4113690e-01,\n",
       "            9.8250163e-01]],\n",
       "\n",
       "         [[ 7.1959049e-01, -8.9165103e-01, -6.1318988e-01,\n",
       "            7.5106925e-01],\n",
       "          [ 7.4714077e-01,  6.4905763e-01, -2.1553102e+00,\n",
       "           -1.5155782e+00]],\n",
       "\n",
       "         [[ 1.1944840e-01, -1.3664653e+00, -9.8773885e-01,\n",
       "            6.0429373e-03],\n",
       "          [-9.3937755e-01, -1.7164046e+00,  1.4039761e+00,\n",
       "            2.6200050e-01]],\n",
       "\n",
       "         [[-5.2710402e-01,  1.5472364e+00,  3.9213946e-01,\n",
       "           -8.1213856e-01],\n",
       "          [-8.0112189e-01,  1.8252627e+00, -4.3665329e-01,\n",
       "           -4.2923033e-01]]],\n",
       "\n",
       "\n",
       "        [[[ 1.6972239e+00, -1.5847246e-01,  5.6358635e-01,\n",
       "            9.8063469e-01],\n",
       "          [ 1.8200383e+00, -4.1815248e-01, -5.9147965e-02,\n",
       "            3.1085685e-01]],\n",
       "\n",
       "         [[ 6.2242615e-01,  1.8070533e+00, -6.3446331e-01,\n",
       "           -2.7791152e-02],\n",
       "          [-7.0106757e-01, -1.2097220e+00,  8.1082445e-01,\n",
       "            4.7061849e-01]],\n",
       "\n",
       "         [[ 6.1093003e-01,  6.3463122e-01,  9.0906107e-01,\n",
       "           -2.8098744e-01],\n",
       "          [-1.1647028e+00, -1.0657732e+00,  6.1801857e-01,\n",
       "            2.4204049e+00]],\n",
       "\n",
       "         [[-1.4243174e+00,  4.9344476e-02,  6.6834164e-01,\n",
       "            1.4546300e+00],\n",
       "          [ 1.9056112e+00,  5.9770949e-02, -4.9866408e-01,\n",
       "           -5.4448670e-01]],\n",
       "\n",
       "         [[ 5.8271229e-01, -1.4162140e-01,  1.5949513e-01,\n",
       "           -1.5184397e+00],\n",
       "          [ 7.5271070e-01,  5.2738315e-01,  1.0191199e+00,\n",
       "           -8.8346988e-01]],\n",
       "\n",
       "         [[-1.0484178e+00, -2.8351468e-01,  4.1003081e-01,\n",
       "           -5.5076981e-01],\n",
       "          [ 4.7799116e-01, -4.8526520e-01,  4.0390596e-01,\n",
       "            6.7668331e-01]],\n",
       "\n",
       "         [[ 3.0077767e-01,  9.2358887e-01,  7.2853643e-01,\n",
       "            1.6886320e+00],\n",
       "          [ 1.0471589e-01,  1.2830554e+00,  4.2132851e-01,\n",
       "            5.1235157e-01]]]]], dtype=float32)>"
      ]
     },
     "execution_count": 11,
     "metadata": {},
     "output_type": "execute_result"
    }
   ],
   "source": [
    "c = K.variable(np.random.randn(7 , 7 , 8))\n",
    "K.reshape(c, [-1, 7, 7, 2, 4])"
   ]
  },
  {
   "cell_type": "code",
   "execution_count": 19,
   "id": "5b3242e2-2a23-4fcd-86cc-22740f81ad6e",
   "metadata": {},
   "outputs": [
    {
     "data": {
      "text/plain": [
       "<tf.Tensor: shape=(1, 2, 1, 1), dtype=int32, numpy=\n",
       "array([[[[1]],\n",
       "\n",
       "        [[2]]]])>"
      ]
     },
     "execution_count": 19,
     "metadata": {},
     "output_type": "execute_result"
    }
   ],
   "source": [
    "K.reshape(a, [-1, 2, 1, 1])"
   ]
  },
  {
   "cell_type": "code",
   "execution_count": null,
   "id": "dccf3d9e-bf97-451f-bafa-29fe2a22f3ad",
   "metadata": {},
   "outputs": [],
   "source": []
  }
 ],
 "metadata": {
  "kernelspec": {
   "display_name": "venv",
   "language": "python",
   "name": "venv"
  },
  "language_info": {
   "codemirror_mode": {
    "name": "ipython",
    "version": 3
   },
   "file_extension": ".py",
   "mimetype": "text/x-python",
   "name": "python",
   "nbconvert_exporter": "python",
   "pygments_lexer": "ipython3",
   "version": "3.9.4"
  },
  "toc-autonumbering": false
 },
 "nbformat": 4,
 "nbformat_minor": 5
}
