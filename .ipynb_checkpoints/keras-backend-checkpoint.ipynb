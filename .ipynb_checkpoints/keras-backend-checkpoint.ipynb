{
 "cells": [
  {
   "cell_type": "markdown",
   "id": "d61bbd3d-2fa3-4fea-8c4d-eb501adc43f9",
   "metadata": {},
   "source": [
    "## What is a \"backend\"?\n",
    "Keras is a model-level library, providing high-level building blocks for developing deep learning models. It does not handle itself low-level operations such as tensor products, convolutions and so on. Instead, it relies on a specialized, well-optimized tensor manipulation library to do so, serving as the \"backend engine\" of Keras. Rather than picking one single tensor library and making the implementation of Keras tied to that library, Keras handles the problem in a modular way, and several different backend engines can be plugged seamlessly into Keras.\n",
    "\n",
    "At this time, Keras has two backend implementations available: the TensorFlow backend and the Theano backend.\n",
    "\n",
    "* TensorFlow is an open-source symbolic tensor manipulation framework developed by Google, Inc.\n",
    "* Theano is an open-source symbolic tensor manipulation framework developed by LISA/MILA Lab at Université de Montréal.\n",
    "\n",
    "The default configuration file looks like this:\n",
    "\n",
    "```\n",
    "{\n",
    "    \"image_data_format\": \"channels_last\",\n",
    "    \"epsilon\": 1e-07,\n",
    "    \"floatx\": \"float32\",\n",
    "    \"backend\": \"tensorflow\"\n",
    "}\n",
    "```\n",
    "\n",
    "Simply change the field backend to either \"theano\" or \"tensorflow\", and Keras will use the new configuration next time you run any Keras code.\n",
    "\n",
    "To import backend from keras :"
   ]
  },
  {
   "cell_type": "code",
   "execution_count": 2,
   "id": "d0a64c48-8fee-4f1a-8fb4-9508086ff806",
   "metadata": {},
   "outputs": [],
   "source": [
    "from keras import backend as K"
   ]
  },
  {
   "cell_type": "markdown",
   "id": "a13365d3-da3b-4bc1-8089-492f1cc5814f",
   "metadata": {},
   "source": [
    "The code below instantiates an input placeholder. It's equivalent to tf.placeholder() or th.tensor.matrix(), th.tensor.tensor3(), etc."
   ]
  },
  {
   "cell_type": "code",
   "execution_count": 4,
   "id": "72ea9b71-789a-4d96-ad09-925962423111",
   "metadata": {},
   "outputs": [
    {
     "name": "stdout",
     "output_type": "stream",
     "text": [
      "KerasTensor(type_spec=TensorSpec(shape=(2, 4, 5), dtype=tf.float32, name=None), description=\"created by layer 'input_4'\")\n",
      "KerasTensor(type_spec=TensorSpec(shape=(None, 4, 5), dtype=tf.float32, name=None), description=\"created by layer 'input_5'\")\n",
      "KerasTensor(type_spec=TensorSpec(shape=(None, None, None), dtype=tf.float32, name=None), description=\"created by layer 'input_6'\")\n"
     ]
    }
   ],
   "source": [
    "input1 = K.placeholder(shape=(2, 4, 5))\n",
    "# also works:\n",
    "input2 = K.placeholder(shape=(None, 4, 5))\n",
    "# also works:\n",
    "input3 = K.placeholder(ndim=3)\n",
    "print(input1, input2, input3, sep='\\n')"
   ]
  },
  {
   "cell_type": "markdown",
   "id": "d7a12ea1-0e7e-4687-a600-ab75c754cf91",
   "metadata": {},
   "source": [
    "The code below instantiates a shared variable. It's equivalent to tf.Variable() or th.shared()."
   ]
  },
  {
   "cell_type": "code",
   "execution_count": 7,
   "id": "76159c23-b111-4b66-bffb-c297f024b3ec",
   "metadata": {},
   "outputs": [
    {
     "name": "stdout",
     "output_type": "stream",
     "text": [
      "<tf.Variable 'Variable:0' shape=(3, 4, 5) dtype=float32, numpy=\n",
      "array([[[0.9658284 , 0.62524205, 0.09375947, 0.8152076 , 0.27911824],\n",
      "        [0.7024237 , 0.5192478 , 0.398615  , 0.55159855, 0.833972  ],\n",
      "        [0.74499226, 0.38171902, 0.6142085 , 0.9380226 , 0.16260241],\n",
      "        [0.49104196, 0.8207659 , 0.20389314, 0.15709779, 0.7880092 ]],\n",
      "\n",
      "       [[0.25910395, 0.54759556, 0.70429283, 0.00383581, 0.7411253 ],\n",
      "        [0.99999505, 0.8424923 , 0.52325886, 0.9208775 , 0.185823  ],\n",
      "        [0.36630315, 0.71720475, 0.51092345, 0.5808122 , 0.59431213],\n",
      "        [0.8738738 , 0.9501951 , 0.51421976, 0.07744563, 0.13432136]],\n",
      "\n",
      "       [[0.14953138, 0.8794619 , 0.34903017, 0.9252268 , 0.50702846],\n",
      "        [0.7275111 , 0.930806  , 0.08986712, 0.9948532 , 0.12617263],\n",
      "        [0.47501427, 0.22117655, 0.6650907 , 0.4945927 , 0.70582753],\n",
      "        [0.31375268, 0.8862886 , 0.03676799, 0.00284468, 0.6790962 ]]],\n",
      "      dtype=float32)>\n",
      "<tf.Variable 'Variable:0' shape=(3, 4, 5) dtype=float32, numpy=\n",
      "array([[[0., 0., 0., 0., 0.],\n",
      "        [0., 0., 0., 0., 0.],\n",
      "        [0., 0., 0., 0., 0.],\n",
      "        [0., 0., 0., 0., 0.]],\n",
      "\n",
      "       [[0., 0., 0., 0., 0.],\n",
      "        [0., 0., 0., 0., 0.],\n",
      "        [0., 0., 0., 0., 0.],\n",
      "        [0., 0., 0., 0., 0.]],\n",
      "\n",
      "       [[0., 0., 0., 0., 0.],\n",
      "        [0., 0., 0., 0., 0.],\n",
      "        [0., 0., 0., 0., 0.],\n",
      "        [0., 0., 0., 0., 0.]]], dtype=float32)>\n",
      "<tf.Variable 'Variable:0' shape=(3, 4, 5) dtype=float32, numpy=\n",
      "array([[[1., 1., 1., 1., 1.],\n",
      "        [1., 1., 1., 1., 1.],\n",
      "        [1., 1., 1., 1., 1.],\n",
      "        [1., 1., 1., 1., 1.]],\n",
      "\n",
      "       [[1., 1., 1., 1., 1.],\n",
      "        [1., 1., 1., 1., 1.],\n",
      "        [1., 1., 1., 1., 1.],\n",
      "        [1., 1., 1., 1., 1.]],\n",
      "\n",
      "       [[1., 1., 1., 1., 1.],\n",
      "        [1., 1., 1., 1., 1.],\n",
      "        [1., 1., 1., 1., 1.],\n",
      "        [1., 1., 1., 1., 1.]]], dtype=float32)>\n"
     ]
    }
   ],
   "source": [
    "import numpy as np\n",
    "val = np.random.random((3, 4, 5))\n",
    "var1 = K.variable(value=val)\n",
    "\n",
    "# all-zeros variable:\n",
    "var2 = K.zeros(shape=(3, 4, 5))\n",
    "# all-ones:\n",
    "var3 = K.ones(shape=(3, 4, 5))\n",
    "\n",
    "print(var1, var2, var3, sep = '\\n')"
   ]
  },
  {
   "cell_type": "markdown",
   "id": "157ebdf1-cc2c-4e22-a783-f929f102bdd5",
   "metadata": {},
   "source": [
    "## References\n",
    "[Notebook](https://github.com/knathanieltucker/a-bit-of-deep-learning-and-keras/blob/master/notebooks/Backend.ipynb)"
   ]
  }
 ],
 "metadata": {
  "kernelspec": {
   "display_name": "venv",
   "language": "python",
   "name": "venv"
  },
  "language_info": {
   "codemirror_mode": {
    "name": "ipython",
    "version": 3
   },
   "file_extension": ".py",
   "mimetype": "text/x-python",
   "name": "python",
   "nbconvert_exporter": "python",
   "pygments_lexer": "ipython3",
   "version": "3.9.4"
  }
 },
 "nbformat": 4,
 "nbformat_minor": 5
}
